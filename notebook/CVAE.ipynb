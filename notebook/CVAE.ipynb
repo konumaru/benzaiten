{
 "cells": [
  {
   "cell_type": "code",
   "execution_count": 69,
   "metadata": {},
   "outputs": [],
   "source": [
    "import sys\n",
    "sys.path.append(\"../src\")"
   ]
  },
  {
   "cell_type": "code",
   "execution_count": 77,
   "metadata": {},
   "outputs": [],
   "source": [
    "from config import Config\n",
    "\n",
    "cfg = Config()"
   ]
  },
  {
   "cell_type": "code",
   "execution_count": 237,
   "metadata": {},
   "outputs": [],
   "source": [
    "import joblib"
   ]
  },
  {
   "cell_type": "code",
   "execution_count": 238,
   "metadata": {},
   "outputs": [],
   "source": [
    "features = joblib.load(\"../data/feats/benzaiten_feats.pkl\")\n",
    "data_all = features[\"data\"]\n",
    "label_all = features[\"label\"]"
   ]
  },
  {
   "cell_type": "code",
   "execution_count": 246,
   "metadata": {},
   "outputs": [],
   "source": [
    "note_seq = data_all[:, :, :49]\n",
    "chord_seq = data_all[:, :, -12:]"
   ]
  },
  {
   "attachments": {},
   "cell_type": "markdown",
   "metadata": {},
   "source": [
    "## Train"
   ]
  },
  {
   "attachments": {},
   "cell_type": "markdown",
   "metadata": {},
   "source": [
    "### Define model"
   ]
  },
  {
   "cell_type": "code",
   "execution_count": 247,
   "metadata": {},
   "outputs": [],
   "source": [
    "chord = \"Cm7\""
   ]
  },
  {
   "cell_type": "code",
   "execution_count": 249,
   "metadata": {},
   "outputs": [],
   "source": [
    "import torch\n",
    "import torch.nn as nn"
   ]
  },
  {
   "cell_type": "code",
   "execution_count": 465,
   "metadata": {},
   "outputs": [],
   "source": [
    "# TODO: \n",
    "# - sample の inputを作る or 作られてるfeatsを使ってデモinputを作る\n",
    "# - 入力から出力まで通るようにモデル実装\n",
    "# - train.py のモデルをこれに差し替える\n",
    "# - メロディ生成してみる\n",
    "\n",
    "\n",
    "class LSTMEncoder(nn.Module):\n",
    "    def __init__(\n",
    "        self, input_dim: int, latent_dim: int, hidden_dim: int, n_layers: int = 1\n",
    "    ) -> None:\n",
    "        super(LSTMEncoder, self).__init__()\n",
    "        self.hidden_dim = hidden_dim\n",
    "        self.n_layers = n_layers\n",
    "        # NOTE: 双方向LSTMにすると隠れ層の次元が２倍になるため、後続の入力次元を倍にするか、平均化するかが必要\n",
    "        self.lstm = nn.LSTM(input_dim, hidden_dim, n_layers, batch_first=True)\n",
    "        self.relu = nn.ReLU()\n",
    "\n",
    "        self._to_mean = nn.Linear(hidden_dim, latent_dim)\n",
    "        self._to_lnvar = nn.Linear(hidden_dim, latent_dim)\n",
    "\n",
    "    def forward(self, x):\n",
    "        _, (hidden, cell) = self.lstm(x)\n",
    "        z = self.relu(hidden)\n",
    "        z = z.transpose(0, 1)\n",
    "        mean  = self._to_mean(z)\n",
    "        logvar =  self._to_lnvar(z)\n",
    "        return mean, logvar\n",
    "\n",
    "\n",
    "class LSTMDecoder(nn.Module):\n",
    "    def __init__(self, input_dim: int, output_dim: int, hidden_dim: int, n_layers: int = 1) -> None:\n",
    "        super(LSTMDecoder, self).__init__()\n",
    "        self.hidden_dim = hidden_dim\n",
    "        self.n_layers = n_layers\n",
    "        self.lstm = nn.LSTM(\n",
    "            input_dim, hidden_dim, num_layers=n_layers, batch_first=True\n",
    "        )\n",
    "        self.fc_out = nn.Linear(hidden_dim, output_dim)\n",
    "\n",
    "    def forward(self, latent, condition) -> torch.Tensor:\n",
    "        inputs = torch.cat([latent, condition], dim=2)\n",
    "        output, (hidden, cell) = self.lstm(inputs)\n",
    "        x_hat = self.fc_out(output)\n",
    "        return x_hat\n",
    "\n",
    "\n",
    "class Chord2Melody(nn.Module):\n",
    "    \"\"\"CVAE model to generate melody from chord progression.\n",
    "    \"\"\"\n",
    "    def __init__(self, input_dim: int, latent_dim: int, condition_dim: int) -> None:\n",
    "        super(Chord2Melody, self).__init__()\n",
    "        self.encoder = LSTMEncoder(input_dim, latent_dim, 128, 1)\n",
    "        self.decoder = LSTMDecoder((latent_dim + condition_dim), input_dim, 128, 2)\n",
    "\n",
    "    def encode(self, x):\n",
    "        mean, logvar = self.encoder(x)\n",
    "        latent = self.reparameterization(mean, logvar)\n",
    "        return latent\n",
    "\n",
    "    def reparameterization(\n",
    "        self, mean: torch.Tensor, logvar: torch.Tensor\n",
    "    ) -> torch.Tensor:\n",
    "        std = torch.exp(0.5 * logvar)\n",
    "        eps = torch.randn_like(std)\n",
    "        latent = mean + eps * std\n",
    "        return latent\n",
    "    \n",
    "    def decode(self, latent, condition):\n",
    "        x_hat = self.decoder(latent, condition)\n",
    "        return x_hat\n",
    "\n",
    "    \n",
    "    def forward(self, melody, chord_prog):\n",
    "        latent = self.encode(melody)\n",
    "        latent = latent.repeat(1, 64, 1)\n",
    "        x_hat = self.decode(latent, condition=chord_prog)\n",
    "        return x_hat"
   ]
  },
  {
   "cell_type": "code",
   "execution_count": 466,
   "metadata": {},
   "outputs": [],
   "source": [
    "model = Chord2Melody(49, 128, 12)"
   ]
  },
  {
   "cell_type": "code",
   "execution_count": 467,
   "metadata": {},
   "outputs": [],
   "source": [
    "batch_size = 10\n",
    "\n",
    "\n",
    "melody = torch.from_numpy(note_seq[:batch_size]).to(torch.float32)\n",
    "condition = torch.from_numpy(chord_seq[:batch_size]).to(torch.float32)\n",
    "output = model(melody, condition)"
   ]
  },
  {
   "cell_type": "code",
   "execution_count": 468,
   "metadata": {},
   "outputs": [
    {
     "data": {
      "text/plain": [
       "tensor([[32, 32, 32, 32],\n",
       "        [23, 23, 23, 23],\n",
       "        [16, 16, 16, 16],\n",
       "        [32, 32, 32, 32],\n",
       "        [32, 32, 32, 32],\n",
       "        [32, 32, 32, 32],\n",
       "        [16, 16, 16, 16],\n",
       "        [32, 32, 32, 32],\n",
       "        [13, 13, 13, 13],\n",
       "        [44, 44, 44, 44]])"
      ]
     },
     "execution_count": 468,
     "metadata": {},
     "output_type": "execute_result"
    }
   ],
   "source": [
    "output.argmax(dim=2)[:, -4:]"
   ]
  },
  {
   "cell_type": "code",
   "execution_count": 374,
   "metadata": {},
   "outputs": [],
   "source": [
    "# Train model"
   ]
  },
  {
   "attachments": {},
   "cell_type": "markdown",
   "metadata": {},
   "source": [
    "## Inference"
   ]
  },
  {
   "cell_type": "code",
   "execution_count": 49,
   "metadata": {},
   "outputs": [
    {
     "data": {
      "text/plain": [
       "tensor([11])"
      ]
     },
     "execution_count": 49,
     "metadata": {},
     "output_type": "execute_result"
    }
   ],
   "source": [
    "batch_size = 4\n",
    "generated_melody = []\n",
    "\n",
    "for i in range(120):\n",
    "    if len(generated_melody) == 0:\n",
    "        latent_dim = 64\n",
    "\n",
    "        latent = torch.rand((batch_size, latent_dim))\n",
    "        condition = torch.tile(torch.tensor([1], dtype=torch.int32), dims=(batch_size, 1))\n",
    "        output = model.decode(latent, condition)\n",
    "    else:\n",
    "        condition = torch.tile(torch.tensor([1], dtype=torch.int32), dims=(batch_size, 1))\n",
    "        output = model(generated_melody, condition)\n",
    "\n",
    "    generated_melody.append(output)"
   ]
  },
  {
   "attachments": {},
   "cell_type": "markdown",
   "metadata": {},
   "source": [
    "## Generate midi"
   ]
  },
  {
   "cell_type": "code",
   "execution_count": null,
   "metadata": {},
   "outputs": [],
   "source": [
    "# TODO: generated_melody to midi file"
   ]
  }
 ],
 "metadata": {
  "kernelspec": {
   "display_name": "Python 3",
   "language": "python",
   "name": "python3"
  },
  "language_info": {
   "codemirror_mode": {
    "name": "ipython",
    "version": 3
   },
   "file_extension": ".py",
   "mimetype": "text/x-python",
   "name": "python",
   "nbconvert_exporter": "python",
   "pygments_lexer": "ipython3",
   "version": "3.8.16"
  },
  "orig_nbformat": 4,
  "vscode": {
   "interpreter": {
    "hash": "949777d72b0d2535278d3dc13498b2535136f6dfe0678499012e853ee9abcab1"
   }
  }
 },
 "nbformat": 4,
 "nbformat_minor": 2
}
