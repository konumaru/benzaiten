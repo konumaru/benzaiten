{
 "cells": [
  {
   "attachments": {},
   "cell_type": "markdown",
   "metadata": {},
   "source": [
    "# Music Transformer を試す"
   ]
  },
  {
   "cell_type": "code",
   "execution_count": 2,
   "metadata": {},
   "outputs": [],
   "source": [
    "import glob\n",
    "import os\n",
    "import subprocess\n",
    "from typing import List, Tuple, Union\n",
    "\n",
    "import hydra\n",
    "import joblib\n",
    "import music21\n",
    "import numpy as np\n",
    "from music21.chord import Chord\n",
    "from music21.note import Note\n",
    "from music21.stream.base import Score\n",
    "from rich.progress import track"
   ]
  },
  {
   "attachments": {},
   "cell_type": "markdown",
   "metadata": {},
   "source": [
    "## 学習"
   ]
  },
  {
   "attachments": {},
   "cell_type": "markdown",
   "metadata": {},
   "source": [
    "### モデル"
   ]
  },
  {
   "cell_type": "code",
   "execution_count": 78,
   "metadata": {},
   "outputs": [
    {
     "name": "stdout",
     "output_type": "stream",
     "text": [
      "torch.Size([1, 256, 312])\n",
      "tensor([51])\n",
      "NOTE_ON: 51\n"
     ]
    }
   ],
   "source": [
    "import torch\n",
    "import torch.nn as nn\n",
    "import torch.nn.functional as F\n",
    "\n",
    "\n",
    "def concate_inputs(\n",
    "    note_on: torch.Tensor,\n",
    "    note_off: torch.Tensor,\n",
    "    time_shift: torch.Tensor,\n",
    "    set_velocity: torch.Tensor,\n",
    ") -> torch.Tensor:\n",
    "    return torch.cat(\n",
    "        (\n",
    "            F.one_hot(note_on),\n",
    "            F.one_hot(note_off),\n",
    "            F.one_hot(time_shift),\n",
    "            F.one_hot(set_velocity),\n",
    "        ),\n",
    "        dim=2,\n",
    "    ).to(torch.float32)\n",
    "\n",
    "\n",
    "# NOTE: 何もないときは、そもそもeventが発生しないのでダミートークンが必要ない\n",
    "# ただし、eventがないときの分は必要\n",
    "seq_len = 256\n",
    "note_on = torch.randint(0, 89, size=(1, seq_len))\n",
    "note_off = torch.randint(0, 89, size=(1, seq_len))\n",
    "time_shift = torch.randint(0, 101, size=(1, seq_len))\n",
    "set_velocity = torch.randint(0, 33, size=(1, seq_len))\n",
    "\n",
    "hidden_dim = 89 + 89 + 101 + 33\n",
    "\n",
    "inputs = concate_inputs(note_on, note_off, time_shift, set_velocity)\n",
    "\n",
    "model = nn.Transformer(hidden_dim, 2, 4, 4, 512, batch_first=True)\n",
    "z = model(inputs, inputs)\n",
    "print(z.shape)\n",
    "\n",
    "out = torch.sigmoid(z[:, -1, :]).argmax(dim=1)\n",
    "print(out)\n",
    "\n",
    "if out < 89:\n",
    "    print(\"NOTE_ON:\", out.item())\n",
    "elif out < (89 + 89):\n",
    "    print(\"NOTE_OFF:\", (out - 89).item())\n",
    "elif out < (89 + 89 + 101):\n",
    "    print(\"TIME_SIFT:\", (out - (89 + 89)).item())\n",
    "else:\n",
    "    print(\"SET_VELOCITY:\", (out - (89 + 89 + 101)).item())"
   ]
  }
 ],
 "metadata": {
  "kernelspec": {
   "display_name": "Python 3",
   "language": "python",
   "name": "python3"
  },
  "language_info": {
   "codemirror_mode": {
    "name": "ipython",
    "version": 3
   },
   "file_extension": ".py",
   "mimetype": "text/x-python",
   "name": "python",
   "nbconvert_exporter": "python",
   "pygments_lexer": "ipython3",
   "version": "3.8.16"
  },
  "orig_nbformat": 4,
  "vscode": {
   "interpreter": {
    "hash": "949777d72b0d2535278d3dc13498b2535136f6dfe0678499012e853ee9abcab1"
   }
  }
 },
 "nbformat": 4,
 "nbformat_minor": 2
}
