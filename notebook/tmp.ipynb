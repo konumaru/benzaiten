{
 "cells": [
  {
   "cell_type": "code",
   "execution_count": 1,
   "metadata": {},
   "outputs": [],
   "source": [
    "import pypianoroll"
   ]
  },
  {
   "cell_type": "code",
   "execution_count": 5,
   "metadata": {},
   "outputs": [
    {
     "ename": "AttributeError",
     "evalue": "module 'numpy' has no attribute 'int'",
     "output_type": "error",
     "traceback": [
      "\u001b[0;31m---------------------------------------------------------------------------\u001b[0m",
      "\u001b[0;31mAttributeError\u001b[0m                            Traceback (most recent call last)",
      "Cell \u001b[0;32mIn[5], line 2\u001b[0m\n\u001b[1;32m      1\u001b[0m midi_filepath \u001b[39m=\u001b[39m \u001b[39m\"\u001b[39m\u001b[39m/workspace/tests_fur-elise.mid\u001b[39m\u001b[39m\"\u001b[39m\n\u001b[0;32m----> 2\u001b[0m multitrack \u001b[39m=\u001b[39m pypianoroll\u001b[39m.\u001b[39;49mread(midi_filepath)\n",
      "File \u001b[0;32m/usr/local/lib/python3.8/site-packages/pypianoroll/inputs.py:344\u001b[0m, in \u001b[0;36mread\u001b[0;34m(path, **kwargs)\u001b[0m\n\u001b[1;32m    326\u001b[0m \u001b[39mdef\u001b[39;00m \u001b[39mread\u001b[39m(path: Union[\u001b[39mstr\u001b[39m, Path], \u001b[39m*\u001b[39m\u001b[39m*\u001b[39mkwargs) \u001b[39m-\u001b[39m\u001b[39m>\u001b[39m Multitrack:\n\u001b[1;32m    327\u001b[0m \u001b[39m    \u001b[39m\u001b[39m\"\"\"Read a MIDI file into a Multitrack object.\u001b[39;00m\n\u001b[1;32m    328\u001b[0m \n\u001b[1;32m    329\u001b[0m \u001b[39m    Parameters\u001b[39;00m\n\u001b[0;32m   (...)\u001b[0m\n\u001b[1;32m    342\u001b[0m \n\u001b[1;32m    343\u001b[0m \u001b[39m    \"\"\"\u001b[39;00m\n\u001b[0;32m--> 344\u001b[0m     \u001b[39mreturn\u001b[39;00m from_pretty_midi(PrettyMIDI(\u001b[39mstr\u001b[39;49m(path)), \u001b[39m*\u001b[39m\u001b[39m*\u001b[39mkwargs)\n",
      "File \u001b[0;32m/usr/local/lib/python3.8/site-packages/pretty_midi/pretty_midi.py:104\u001b[0m, in \u001b[0;36mPrettyMIDI.__init__\u001b[0;34m(self, midi_file, resolution, initial_tempo)\u001b[0m\n\u001b[1;32m     97\u001b[0m         warnings\u001b[39m.\u001b[39mwarn(\n\u001b[1;32m     98\u001b[0m             \u001b[39m\"\u001b[39m\u001b[39mTempo, Key or Time signature change events found on \u001b[39m\u001b[39m\"\u001b[39m\n\u001b[1;32m     99\u001b[0m             \u001b[39m\"\u001b[39m\u001b[39mnon-zero tracks.  This is not a valid type 0 or type 1 \u001b[39m\u001b[39m\"\u001b[39m\n\u001b[1;32m    100\u001b[0m             \u001b[39m\"\u001b[39m\u001b[39mMIDI file.  Tempo, Key or Time Signature may be wrong.\u001b[39m\u001b[39m\"\u001b[39m,\n\u001b[1;32m    101\u001b[0m             \u001b[39mRuntimeWarning\u001b[39;00m)\n\u001b[1;32m    103\u001b[0m     \u001b[39m# Populate the list of instruments\u001b[39;00m\n\u001b[0;32m--> 104\u001b[0m     \u001b[39mself\u001b[39;49m\u001b[39m.\u001b[39;49m_load_instruments(midi_data)\n\u001b[1;32m    106\u001b[0m \u001b[39melse\u001b[39;00m:\n\u001b[1;32m    107\u001b[0m     \u001b[39mself\u001b[39m\u001b[39m.\u001b[39mresolution \u001b[39m=\u001b[39m resolution\n",
      "File \u001b[0;32m/usr/local/lib/python3.8/site-packages/pretty_midi/pretty_midi.py:295\u001b[0m, in \u001b[0;36mPrettyMIDI._load_instruments\u001b[0;34m(self, midi_data)\u001b[0m\n\u001b[1;32m    292\u001b[0m last_note_on \u001b[39m=\u001b[39m collections\u001b[39m.\u001b[39mdefaultdict(\u001b[39mlist\u001b[39m)\n\u001b[1;32m    293\u001b[0m \u001b[39m# Keep track of which instrument is playing in each channel\u001b[39;00m\n\u001b[1;32m    294\u001b[0m \u001b[39m# initialize to program 0 for all channels\u001b[39;00m\n\u001b[0;32m--> 295\u001b[0m current_instrument \u001b[39m=\u001b[39m np\u001b[39m.\u001b[39mzeros(\u001b[39m16\u001b[39m, dtype\u001b[39m=\u001b[39mnp\u001b[39m.\u001b[39;49mint)\n\u001b[1;32m    296\u001b[0m \u001b[39mfor\u001b[39;00m event \u001b[39min\u001b[39;00m track:\n\u001b[1;32m    297\u001b[0m     \u001b[39m# Look for track name events\u001b[39;00m\n\u001b[1;32m    298\u001b[0m     \u001b[39mif\u001b[39;00m event\u001b[39m.\u001b[39mtype \u001b[39m==\u001b[39m \u001b[39m'\u001b[39m\u001b[39mtrack_name\u001b[39m\u001b[39m'\u001b[39m:\n\u001b[1;32m    299\u001b[0m         \u001b[39m# Set the track name for the current track\u001b[39;00m\n",
      "File \u001b[0;32m/usr/local/lib/python3.8/site-packages/numpy/__init__.py:284\u001b[0m, in \u001b[0;36m__getattr__\u001b[0;34m(attr)\u001b[0m\n\u001b[1;32m    281\u001b[0m     \u001b[39mfrom\u001b[39;00m \u001b[39m.\u001b[39;00m\u001b[39mtesting\u001b[39;00m \u001b[39mimport\u001b[39;00m Tester\n\u001b[1;32m    282\u001b[0m     \u001b[39mreturn\u001b[39;00m Tester\n\u001b[0;32m--> 284\u001b[0m \u001b[39mraise\u001b[39;00m \u001b[39mAttributeError\u001b[39;00m(\u001b[39m\"\u001b[39m\u001b[39mmodule \u001b[39m\u001b[39m{!r}\u001b[39;00m\u001b[39m has no attribute \u001b[39m\u001b[39m\"\u001b[39m\n\u001b[1;32m    285\u001b[0m                      \u001b[39m\"\u001b[39m\u001b[39m{!r}\u001b[39;00m\u001b[39m\"\u001b[39m\u001b[39m.\u001b[39mformat(\u001b[39m__name__\u001b[39m, attr))\n",
      "\u001b[0;31mAttributeError\u001b[0m: module 'numpy' has no attribute 'int'"
     ]
    }
   ],
   "source": [
    "midi_filepath = \"/workspace/tests_fur-elise.mid\"\n",
    "multitrack = pypianoroll.read(midi_filepath)"
   ]
  },
  {
   "cell_type": "code",
   "execution_count": null,
   "metadata": {},
   "outputs": [],
   "source": []
  },
  {
   "cell_type": "code",
   "execution_count": null,
   "metadata": {},
   "outputs": [],
   "source": []
  },
  {
   "cell_type": "code",
   "execution_count": null,
   "metadata": {},
   "outputs": [],
   "source": []
  },
  {
   "cell_type": "code",
   "execution_count": null,
   "metadata": {},
   "outputs": [],
   "source": []
  }
 ],
 "metadata": {
  "kernelspec": {
   "display_name": "Python 3",
   "language": "python",
   "name": "python3"
  },
  "language_info": {
   "codemirror_mode": {
    "name": "ipython",
    "version": 3
   },
   "file_extension": ".py",
   "mimetype": "text/x-python",
   "name": "python",
   "nbconvert_exporter": "python",
   "pygments_lexer": "ipython3",
   "version": "3.8.16"
  },
  "orig_nbformat": 4,
  "vscode": {
   "interpreter": {
    "hash": "949777d72b0d2535278d3dc13498b2535136f6dfe0678499012e853ee9abcab1"
   }
  }
 },
 "nbformat": 4,
 "nbformat_minor": 2
}
