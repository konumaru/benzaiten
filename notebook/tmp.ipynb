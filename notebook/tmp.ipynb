{
 "cells": [
  {
   "cell_type": "code",
   "execution_count": 103,
   "metadata": {},
   "outputs": [],
   "source": [
    "import sys\n",
    "sys.path.append(\"../src\")"
   ]
  },
  {
   "cell_type": "code",
   "execution_count": 104,
   "metadata": {},
   "outputs": [],
   "source": [
    "import glob\n",
    "import os\n",
    "import subprocess\n",
    "from typing import List, Tuple, Union, Any\n",
    "\n",
    "import hydra\n",
    "import joblib\n",
    "import music21\n",
    "import numpy as np\n",
    "from music21.chord import Chord\n",
    "from music21.note import Note\n",
    "from music21.stream.base import Score\n",
    "from rich.progress import track"
   ]
  },
  {
   "cell_type": "code",
   "execution_count": 105,
   "metadata": {},
   "outputs": [],
   "source": [
    "from utils import make_sequence"
   ]
  },
  {
   "cell_type": "code",
   "execution_count": 106,
   "metadata": {},
   "outputs": [],
   "source": [
    "class MusicXMLFeature(object):\n",
    "    def __init__(\n",
    "        self,\n",
    "        xml_file: str,\n",
    "        key_root: str = \"C\",\n",
    "        num_beats: int = 4,\n",
    "        num_parts_of_beat: int = 4,\n",
    "        max_measure_num: int = 240,\n",
    "        min_note_num: int = 36,\n",
    "        max_note_num: int = 84,\n",
    "    ) -> None:\n",
    "        assert key_root in [\"C\", \"D\", \"E\", \"F\", \"G\", \"A\", \"B\"]\n",
    "\n",
    "        self.score = self._get_score(xml_file, key_root)\n",
    "        self.num_beats = num_beats\n",
    "        self.num_parts_of_beat = num_parts_of_beat\n",
    "        self.max_measure_num = max_measure_num\n",
    "        self.min_note_num = min_note_num\n",
    "        self.max_note_num = max_note_num\n",
    "\n",
    "    def _get_score(self, xml_file: str, root: str) -> Score:\n",
    "        score: Score = music21.converter.parse(\n",
    "            xml_file, format=\"musicxml\"\n",
    "        )  # type: ignore\n",
    "        key = score.analyze(\"key\")\n",
    "        interval = music21.interval.Interval(\n",
    "            key.tonic, music21.pitch.Pitch(root)  # type: ignore\n",
    "        )\n",
    "        score.transpose(interval, inPlace=True)\n",
    "        return score\n",
    "\n",
    "    def get_mode(self) -> str:\n",
    "        key = self.score.analyze(\"key\")\n",
    "        mode = \"None\" if key is None else str(key.mode)\n",
    "        return mode\n",
    "\n",
    "    def get_note_seq(self) -> List[Union[None, Note]]:\n",
    "        note_seq: List[Union[None, Note]] = [None] * int(\n",
    "            self.max_measure_num * self.num_beats * self.num_parts_of_beat\n",
    "        )\n",
    "\n",
    "        for measure in self.score.parts[0].getElementsByClass(\"Measure\"):\n",
    "            for note in measure.getElementsByClass(\"Note\"):\n",
    "                onset = measure.offset + note._activeSiteStoredOffset\n",
    "                offset = onset + note._duration.quarterLength\n",
    "\n",
    "                start_idx = int(onset * self.num_parts_of_beat)\n",
    "                end_idx = int(offset * self.num_parts_of_beat + 1)\n",
    "\n",
    "                num_item = int(end_idx - start_idx)\n",
    "                note_seq[start_idx:end_idx] = [note] * num_item\n",
    "\n",
    "        return note_seq\n",
    "\n",
    "    def get_onehot_note_seq(self) -> np.ndarray:\n",
    "        note_seq = self.get_note_seq()\n",
    "        note_num_seq = [\n",
    "            int(n.pitch.midi - self.min_note_num) if n is not None else -1\n",
    "            for n in note_seq\n",
    "        ]\n",
    "        num_note = self.max_note_num - self.min_note_num + 1\n",
    "        onehot_note_seq = np.identity(num_note)[note_num_seq]\n",
    "        return onehot_note_seq\n",
    "\n",
    "    def get_seq_notenum(self) -> np.ndarray:\n",
    "        seq_note = self.get_note_seq()\n",
    "        seq_notenum = np.array(\n",
    "            [\n",
    "                int(n.pitch.midi) - self.min_note_num + 1\n",
    "                if n is not None\n",
    "                else 0\n",
    "                for n in seq_note\n",
    "            ]\n",
    "        )\n",
    "        return seq_notenum\n",
    "\n",
    "    def get_chord_seq(self) -> List[Union[None, Chord]]:\n",
    "        chord_seq: List[Union[None, Chord]] = [None] * int(\n",
    "            self.max_measure_num * self.num_beats * self.num_parts_of_beat\n",
    "        )\n",
    "\n",
    "        for measure in self.score.parts[0].getElementsByClass(\"Measure\"):\n",
    "            for note in measure.getElementsByClass(\"ChordSymbol\"):\n",
    "                offset = measure.offset + note.offset\n",
    "\n",
    "                start_idx = int(offset * self.num_parts_of_beat)\n",
    "                end_idx = (\n",
    "                    int(\n",
    "                        (measure.offset + self.num_beats)\n",
    "                        * self.num_parts_of_beat\n",
    "                    )\n",
    "                    + 1\n",
    "                )\n",
    "                num_item = int(end_idx - start_idx)\n",
    "                chord_seq[start_idx:end_idx] = [note] * num_item\n",
    "\n",
    "        return chord_seq\n",
    "\n",
    "    def get_onehot_chord_seq(self) -> np.ndarray:\n",
    "        chord_seq = self.get_chord_seq()\n",
    "        onehot_chord_seq = np.zeros((len(chord_seq), 12))\n",
    "        for i, chord in enumerate(chord_seq):\n",
    "            if chord is None:\n",
    "                continue\n",
    "            for note in chord._notes:\n",
    "                onehot_chord_seq[i, note.pitch.midi % 12] = 1\n",
    "        return onehot_chord_seq"
   ]
  },
  {
   "cell_type": "code",
   "execution_count": 107,
   "metadata": {},
   "outputs": [],
   "source": [
    "files = [\n",
    "    \"/workspace/data/xml/Celerity.xml\",\n",
    "    \"/workspace/data/xml/Anthropology.xml\",\n",
    "    \"/workspace/data/xml/Diverse.xml\"\n",
    "]"
   ]
  },
  {
   "cell_type": "code",
   "execution_count": 108,
   "metadata": {},
   "outputs": [
    {
     "name": "stdout",
     "output_type": "stream",
     "text": [
      "3840\n",
      "3840\n",
      "\n",
      "3840\n",
      "3840\n",
      "\n",
      "3840\n",
      "3840\n",
      "\n"
     ]
    }
   ],
   "source": [
    "for f in files:\n",
    "    feat = MusicXMLFeature(f)\n",
    "    print(len(feat.get_note_seq()))\n",
    "    print(len(feat.get_chord_seq()))\n",
    "    print()"
   ]
  },
  {
   "cell_type": "code",
   "execution_count": 109,
   "metadata": {},
   "outputs": [],
   "source": [
    "notes = feat.get_note_seq()\n",
    "onehot = feat.get_onehot_note_seq()\n",
    "chords = feat.get_chord_seq()\n",
    "chords_chorma = feat.get_onehot_chord_seq()"
   ]
  },
  {
   "cell_type": "code",
   "execution_count": 110,
   "metadata": {},
   "outputs": [
    {
     "data": {
      "text/plain": [
       "((30, 128), (30, 128, 12))"
      ]
     },
     "execution_count": 110,
     "metadata": {},
     "output_type": "execute_result"
    }
   ],
   "source": [
    "seq_note = make_sequence(np.array(notes), 128)\n",
    "seq_chord = make_sequence(chords_chorma, 128)\n",
    "\n",
    "seq_note.shape, seq_chord.shape"
   ]
  },
  {
   "cell_type": "code",
   "execution_count": 111,
   "metadata": {},
   "outputs": [
    {
     "data": {
      "text/plain": [
       "array([ 0,  0, 32, 32, 32, 32, 28, 28, 25, 25, 20, 20, 20,  0, 20, 20, 30,\n",
       "       30, 22, 22])"
      ]
     },
     "execution_count": 111,
     "metadata": {},
     "output_type": "execute_result"
    }
   ],
   "source": [
    "notenum = feat.get_seq_notenum()\n",
    "notenum[:20]"
   ]
  },
  {
   "cell_type": "code",
   "execution_count": 112,
   "metadata": {},
   "outputs": [
    {
     "data": {
      "text/plain": [
       "[None,\n",
       " None,\n",
       " <music21.note.Note G>,\n",
       " <music21.note.Note G>,\n",
       " <music21.note.Note G>,\n",
       " <music21.note.Note G>,\n",
       " <music21.note.Note E->,\n",
       " <music21.note.Note E->,\n",
       " <music21.note.Note C>,\n",
       " <music21.note.Note C>,\n",
       " <music21.note.Note G>,\n",
       " <music21.note.Note G>,\n",
       " <music21.note.Note G>,\n",
       " None,\n",
       " <music21.note.Note G>,\n",
       " <music21.note.Note G>,\n",
       " <music21.note.Note F>,\n",
       " <music21.note.Note F>,\n",
       " <music21.note.Note A>,\n",
       " <music21.note.Note A>]"
      ]
     },
     "execution_count": 112,
     "metadata": {},
     "output_type": "execute_result"
    }
   ],
   "source": [
    "notes[:20]"
   ]
  },
  {
   "cell_type": "code",
   "execution_count": 113,
   "metadata": {},
   "outputs": [
    {
     "data": {
      "text/plain": [
       "[<music21.harmony.ChordSymbol Cm>,\n",
       " <music21.harmony.ChordSymbol Cm>,\n",
       " <music21.harmony.ChordSymbol Cm>,\n",
       " <music21.harmony.ChordSymbol Cm>,\n",
       " <music21.harmony.ChordSymbol Cm>,\n",
       " <music21.harmony.ChordSymbol Cm>,\n",
       " <music21.harmony.ChordSymbol Cm>,\n",
       " <music21.harmony.ChordSymbol Cm>,\n",
       " <music21.harmony.ChordSymbol Cm>,\n",
       " <music21.harmony.ChordSymbol Cm>,\n",
       " <music21.harmony.ChordSymbol Cm>,\n",
       " <music21.harmony.ChordSymbol Cm>,\n",
       " <music21.harmony.ChordSymbol Cm>,\n",
       " <music21.harmony.ChordSymbol Cm>,\n",
       " <music21.harmony.ChordSymbol Cm>,\n",
       " <music21.harmony.ChordSymbol Cm>,\n",
       " <music21.harmony.ChordSymbol Dm>,\n",
       " <music21.harmony.ChordSymbol Dm>,\n",
       " <music21.harmony.ChordSymbol Dm>,\n",
       " <music21.harmony.ChordSymbol Dm>]"
      ]
     },
     "execution_count": 113,
     "metadata": {},
     "output_type": "execute_result"
    }
   ],
   "source": [
    "chords[:20]"
   ]
  },
  {
   "attachments": {},
   "cell_type": "markdown",
   "metadata": {},
   "source": [
    "---"
   ]
  },
  {
   "cell_type": "code",
   "execution_count": 187,
   "metadata": {},
   "outputs": [],
   "source": [
    "class MusicXMLFeature(object):\n",
    "    def __init__(\n",
    "        self,\n",
    "        xml_file: str,\n",
    "        key_root: str = \"C\",\n",
    "        num_beats: int = 4,\n",
    "        num_parts_of_beat: int = 4,\n",
    "        max_measure_num: int = 240,\n",
    "        min_note_num: int = 36,\n",
    "        max_note_num: int = 84,\n",
    "    ) -> None:\n",
    "        assert key_root in [\"C\", \"D\", \"E\", \"F\", \"G\", \"A\", \"B\"]\n",
    "\n",
    "        self.score = self._get_score(xml_file, key_root)\n",
    "        self.num_beats = num_beats\n",
    "        self.num_parts_of_beat = num_parts_of_beat\n",
    "        self.max_measure_num = max_measure_num\n",
    "        self.min_note_num = min_note_num\n",
    "        self.max_note_num = max_note_num\n",
    "\n",
    "        self.notes, self.chords = self.get_notes_and_chords()\n",
    "\n",
    "    def _get_score(self, xml_file: str, root: str) -> Score:\n",
    "        score: Score = music21.converter.parse(\n",
    "            xml_file, format=\"musicxml\"\n",
    "        )  # type: ignore\n",
    "        key = score.analyze(\"key\")\n",
    "        interval = music21.interval.Interval(\n",
    "            key.tonic, music21.pitch.Pitch(root)  # type: ignore\n",
    "        )\n",
    "        score.transpose(interval, inPlace=True)\n",
    "        return score\n",
    "\n",
    "    def get_mode(self) -> str:\n",
    "        key = self.score.analyze(\"key\")\n",
    "        mode = \"None\" if key is None else str(key.mode)\n",
    "        return mode\n",
    "\n",
    "    def get_notes_and_chords(\n",
    "        self,\n",
    "    ) -> Tuple[List[Union[None, Note]], List[Union[None, Chord]]]:\n",
    "        notes = []\n",
    "        chords = []\n",
    "        for measure in self.score.parts[0].getElementsByClass(\"Measure\"):\n",
    "            m_notes = [None] * self.num_beats * self.num_parts_of_beat\n",
    "            for note in measure.getElementsByClass(\"Note\"):\n",
    "                onset = note._activeSiteStoredOffset\n",
    "                offset = onset + note._duration.quarterLength\n",
    "\n",
    "                start_idx = int(onset * self.num_parts_of_beat)\n",
    "                end_idx = int(offset * self.num_parts_of_beat) + 1\n",
    "                end_idx = end_idx if end_idx < 16 else 16\n",
    "\n",
    "                num_item = int(end_idx - start_idx)\n",
    "                m_notes[start_idx:end_idx] = [note] * num_item\n",
    "            notes.extend(m_notes)\n",
    "\n",
    "            m_chords = [None] * self.num_beats * self.num_parts_of_beat\n",
    "            for chord in measure.getElementsByClass(\"ChordSymbol\"):\n",
    "                offset = chord.offset\n",
    "\n",
    "                start_idx = int(offset * self.num_parts_of_beat)\n",
    "                end_idx = int(self.num_beats * self.num_parts_of_beat) + 1\n",
    "                end_idx = end_idx if end_idx < 16 else 16\n",
    "\n",
    "                num_item = int(end_idx - start_idx)\n",
    "                m_chords[start_idx:end_idx] = [chord] * num_item\n",
    "            chords.extend(m_chords)\n",
    "\n",
    "        return notes, chords\n",
    "\n",
    "    def get_seq_notenum(self) -> np.ndarray:\n",
    "        # NOTE: 0 is empty note number.\n",
    "        seq_notenum = [\n",
    "            int(n.pitch.midi) - self.min_note_num + 1 if n is not None else 0\n",
    "            for n in self.notes\n",
    "        ]\n",
    "        return np.array(seq_notenum)\n",
    "\n",
    "    def get_seq_note_onehot(self) -> np.ndarray:\n",
    "        notenum = self.get_seq_notenum()\n",
    "        \n",
    "        num_note = self.max_note_num - self.min_note_num + 1\n",
    "        seq_note_onehot = np.identity(num_note)[notenum]\n",
    "        return seq_note_onehot\n",
    "\n",
    "    def get_seq_chord_chorma(self) -> np.ndarray:\n",
    "        onehot_chord_seq = np.zeros((len(self.chords), 12))\n",
    "        for i, chord in enumerate(self.chords):\n",
    "            if chord is not None:\n",
    "                for note in chord._notes:\n",
    "                    onehot_chord_seq[i, note.pitch.midi % 12] = 1\n",
    "        return onehot_chord_seq\n",
    "\n"
   ]
  },
  {
   "cell_type": "code",
   "execution_count": 188,
   "metadata": {},
   "outputs": [
    {
     "name": "stdout",
     "output_type": "stream",
     "text": [
      "1024\n",
      "1024\n",
      "\n",
      "2096\n",
      "2096\n",
      "\n",
      "1552\n",
      "1552\n",
      "\n"
     ]
    }
   ],
   "source": [
    "for f in files:\n",
    "    feat = MusicXMLFeature(f)\n",
    "    notes, chords = feat.get_notes_and_chords()\n",
    "    print(len(notes))\n",
    "    print(len(chords))\n",
    "    print()"
   ]
  },
  {
   "cell_type": "code",
   "execution_count": 189,
   "metadata": {},
   "outputs": [
    {
     "data": {
      "text/plain": [
       "1552"
      ]
     },
     "execution_count": 189,
     "metadata": {},
     "output_type": "execute_result"
    }
   ],
   "source": [
    "len(feat.score.parts[0].getElementsByClass(\"Measure\")) * 16"
   ]
  },
  {
   "cell_type": "code",
   "execution_count": 190,
   "metadata": {},
   "outputs": [],
   "source": [
    "notes, chords = feat.get_notes_and_chords()\n",
    "seq_notenum = feat.get_seq_notenum()\n",
    "seq_note_onehot = feat.get_seq_note_onehot()\n",
    "seq_chord_chroma = feat.get_seq_chord_chorma()"
   ]
  },
  {
   "cell_type": "code",
   "execution_count": 191,
   "metadata": {},
   "outputs": [
    {
     "data": {
      "text/plain": [
       "(12, 128, 12)"
      ]
     },
     "execution_count": 191,
     "metadata": {},
     "output_type": "execute_result"
    }
   ],
   "source": [
    "make_sequence(seq_chord_chroma, 128).shape"
   ]
  },
  {
   "cell_type": "code",
   "execution_count": 192,
   "metadata": {},
   "outputs": [
    {
     "data": {
      "text/plain": [
       "(12, 128)"
      ]
     },
     "execution_count": 192,
     "metadata": {},
     "output_type": "execute_result"
    }
   ],
   "source": [
    "make_sequence(seq_notenum, 128).shape"
   ]
  },
  {
   "cell_type": "code",
   "execution_count": 193,
   "metadata": {},
   "outputs": [
    {
     "data": {
      "text/plain": [
       "(12, 128, 49)"
      ]
     },
     "execution_count": 193,
     "metadata": {},
     "output_type": "execute_result"
    }
   ],
   "source": [
    "make_sequence(seq_note_onehot, 128).shape"
   ]
  },
  {
   "cell_type": "code",
   "execution_count": 194,
   "metadata": {},
   "outputs": [
    {
     "data": {
      "text/plain": [
       "[None,\n",
       " None,\n",
       " <music21.note.Note G>,\n",
       " <music21.note.Note G>,\n",
       " <music21.note.Note G>,\n",
       " <music21.note.Note G>,\n",
       " <music21.note.Note E->,\n",
       " <music21.note.Note E->,\n",
       " <music21.note.Note C>,\n",
       " <music21.note.Note C>,\n",
       " <music21.note.Note G>,\n",
       " <music21.note.Note G>,\n",
       " <music21.note.Note G>,\n",
       " None,\n",
       " <music21.note.Note G>,\n",
       " <music21.note.Note G>,\n",
       " <music21.note.Note F>,\n",
       " <music21.note.Note F>,\n",
       " <music21.note.Note A>,\n",
       " <music21.note.Note A>]"
      ]
     },
     "execution_count": 194,
     "metadata": {},
     "output_type": "execute_result"
    }
   ],
   "source": [
    "notes[:20]"
   ]
  },
  {
   "cell_type": "code",
   "execution_count": 195,
   "metadata": {},
   "outputs": [
    {
     "data": {
      "text/plain": [
       "[<music21.harmony.ChordSymbol Cm>,\n",
       " <music21.harmony.ChordSymbol Cm>,\n",
       " <music21.harmony.ChordSymbol Cm>,\n",
       " <music21.harmony.ChordSymbol Cm>,\n",
       " <music21.harmony.ChordSymbol Cm>,\n",
       " <music21.harmony.ChordSymbol Cm>,\n",
       " <music21.harmony.ChordSymbol Cm>,\n",
       " <music21.harmony.ChordSymbol Cm>,\n",
       " <music21.harmony.ChordSymbol Cm>,\n",
       " <music21.harmony.ChordSymbol Cm>,\n",
       " <music21.harmony.ChordSymbol Cm>,\n",
       " <music21.harmony.ChordSymbol Cm>,\n",
       " <music21.harmony.ChordSymbol Cm>,\n",
       " <music21.harmony.ChordSymbol Cm>,\n",
       " <music21.harmony.ChordSymbol Cm>,\n",
       " <music21.harmony.ChordSymbol Cm>,\n",
       " <music21.harmony.ChordSymbol Dm>,\n",
       " <music21.harmony.ChordSymbol Dm>,\n",
       " <music21.harmony.ChordSymbol Dm>,\n",
       " <music21.harmony.ChordSymbol Dm>]"
      ]
     },
     "execution_count": 195,
     "metadata": {},
     "output_type": "execute_result"
    }
   ],
   "source": [
    "chords[:20]"
   ]
  },
  {
   "cell_type": "code",
   "execution_count": 196,
   "metadata": {},
   "outputs": [
    {
     "data": {
      "text/plain": [
       "array([ 0,  0, 32, 32, 32, 32, 28, 28, 25, 25])"
      ]
     },
     "execution_count": 196,
     "metadata": {},
     "output_type": "execute_result"
    }
   ],
   "source": [
    "seq_notenum[:10]"
   ]
  },
  {
   "cell_type": "code",
   "execution_count": 197,
   "metadata": {},
   "outputs": [
    {
     "data": {
      "text/plain": [
       "array([ 0,  0, 32, 32, 32, 32, 28, 28, 25, 25])"
      ]
     },
     "execution_count": 197,
     "metadata": {},
     "output_type": "execute_result"
    }
   ],
   "source": [
    "seq_note_onehot[:10].argmax(axis=1)"
   ]
  },
  {
   "cell_type": "code",
   "execution_count": 198,
   "metadata": {},
   "outputs": [
    {
     "data": {
      "text/plain": [
       "(1552, 49)"
      ]
     },
     "execution_count": 198,
     "metadata": {},
     "output_type": "execute_result"
    }
   ],
   "source": [
    "seq_note_onehot.shape"
   ]
  },
  {
   "cell_type": "code",
   "execution_count": 215,
   "metadata": {},
   "outputs": [],
   "source": [
    "import torch\n",
    "import torch.nn\n",
    "\n",
    "loss_fn = nn.CrossEntropyLoss()\n",
    "\n",
    "bs = 64\n",
    "inputs = torch.from_numpy(seq_note_onehot[:bs].astype(np.float64))\n",
    "targets = torch.from_numpy(seq_notenum[:bs].astype(np.int64))"
   ]
  },
  {
   "cell_type": "code",
   "execution_count": 216,
   "metadata": {},
   "outputs": [
    {
     "data": {
      "text/plain": [
       "tensor(2.9263, dtype=torch.float64)"
      ]
     },
     "execution_count": 216,
     "metadata": {},
     "output_type": "execute_result"
    }
   ],
   "source": [
    "loss_fn(inputs, targets)"
   ]
  }
 ],
 "metadata": {
  "kernelspec": {
   "display_name": "Python 3",
   "language": "python",
   "name": "python3"
  },
  "language_info": {
   "codemirror_mode": {
    "name": "ipython",
    "version": 3
   },
   "file_extension": ".py",
   "mimetype": "text/x-python",
   "name": "python",
   "nbconvert_exporter": "python",
   "pygments_lexer": "ipython3",
   "version": "3.8.16"
  },
  "orig_nbformat": 4,
  "vscode": {
   "interpreter": {
    "hash": "949777d72b0d2535278d3dc13498b2535136f6dfe0678499012e853ee9abcab1"
   }
  }
 },
 "nbformat": 4,
 "nbformat_minor": 2
}
